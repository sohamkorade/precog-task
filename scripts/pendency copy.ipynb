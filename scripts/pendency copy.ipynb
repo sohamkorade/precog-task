{
 "cells": [
  {
   "cell_type": "code",
   "execution_count": 2,
   "metadata": {},
   "outputs": [],
   "source": [
    "import pandas as pd\n",
    "import numpy as np\n",
    "import matplotlib.pyplot as plt"
   ]
  },
  {
   "cell_type": "code",
   "execution_count": 3,
   "metadata": {},
   "outputs": [],
   "source": [
    "# read csv\n",
    "courts = pd.read_csv('../csv/keys/keys/cases_court_key.csv')\n",
    "\n"
   ]
  },
  {
   "cell_type": "code",
   "execution_count": 50,
   "metadata": {},
   "outputs": [
    {
     "ename": "AttributeError",
     "evalue": "'Timedelta' object has no attribute 'to_ordinal'",
     "output_type": "error",
     "traceback": [
      "\u001b[0;31m---------------------------------------------------------------------------\u001b[0m",
      "\u001b[0;31mAttributeError\u001b[0m                            Traceback (most recent call last)",
      "Cell \u001b[0;32mIn[50], line 37\u001b[0m\n\u001b[1;32m     31\u001b[0m df \u001b[39m=\u001b[39m df[df[\u001b[39m'\u001b[39m\u001b[39mpendency\u001b[39m\u001b[39m'\u001b[39m]\u001b[39m.\u001b[39mdt\u001b[39m.\u001b[39mdays \u001b[39m>\u001b[39m \u001b[39m0\u001b[39m]\u001b[39m.\u001b[39msort_values(by\u001b[39m=\u001b[39m\u001b[39m'\u001b[39m\u001b[39mpendency\u001b[39m\u001b[39m'\u001b[39m,\n\u001b[1;32m     32\u001b[0m                                                 ascending\u001b[39m=\u001b[39m\u001b[39mFalse\u001b[39;00m)\n\u001b[1;32m     34\u001b[0m \u001b[39m# print(df.describe())\u001b[39;00m\n\u001b[1;32m     35\u001b[0m \n\u001b[1;32m     36\u001b[0m \u001b[39m# plot\u001b[39;00m\n\u001b[0;32m---> 37\u001b[0m df[\u001b[39m'\u001b[39m\u001b[39mordinal\u001b[39m\u001b[39m'\u001b[39m] \u001b[39m=\u001b[39m [x\u001b[39m.\u001b[39mto_ordinal() \u001b[39mfor\u001b[39;00m x \u001b[39min\u001b[39;00m df[\u001b[39m'\u001b[39m\u001b[39mpendency\u001b[39m\u001b[39m'\u001b[39m]]\n\u001b[1;32m     38\u001b[0m plot\u001b[39m=\u001b[39mdf[\u001b[39m'\u001b[39m\u001b[39mordinal\u001b[39m\u001b[39m'\u001b[39m]\u001b[39m.\u001b[39mplot\u001b[39m.\u001b[39mkde()\n\u001b[1;32m     39\u001b[0m plt\u001b[39m.\u001b[39mshow()\n",
      "Cell \u001b[0;32mIn[50], line 37\u001b[0m, in \u001b[0;36m<listcomp>\u001b[0;34m(.0)\u001b[0m\n\u001b[1;32m     31\u001b[0m df \u001b[39m=\u001b[39m df[df[\u001b[39m'\u001b[39m\u001b[39mpendency\u001b[39m\u001b[39m'\u001b[39m]\u001b[39m.\u001b[39mdt\u001b[39m.\u001b[39mdays \u001b[39m>\u001b[39m \u001b[39m0\u001b[39m]\u001b[39m.\u001b[39msort_values(by\u001b[39m=\u001b[39m\u001b[39m'\u001b[39m\u001b[39mpendency\u001b[39m\u001b[39m'\u001b[39m,\n\u001b[1;32m     32\u001b[0m                                                 ascending\u001b[39m=\u001b[39m\u001b[39mFalse\u001b[39;00m)\n\u001b[1;32m     34\u001b[0m \u001b[39m# print(df.describe())\u001b[39;00m\n\u001b[1;32m     35\u001b[0m \n\u001b[1;32m     36\u001b[0m \u001b[39m# plot\u001b[39;00m\n\u001b[0;32m---> 37\u001b[0m df[\u001b[39m'\u001b[39m\u001b[39mordinal\u001b[39m\u001b[39m'\u001b[39m] \u001b[39m=\u001b[39m [x\u001b[39m.\u001b[39;49mto_ordinal() \u001b[39mfor\u001b[39;00m x \u001b[39min\u001b[39;00m df[\u001b[39m'\u001b[39m\u001b[39mpendency\u001b[39m\u001b[39m'\u001b[39m]]\n\u001b[1;32m     38\u001b[0m plot\u001b[39m=\u001b[39mdf[\u001b[39m'\u001b[39m\u001b[39mordinal\u001b[39m\u001b[39m'\u001b[39m]\u001b[39m.\u001b[39mplot\u001b[39m.\u001b[39mkde()\n\u001b[1;32m     39\u001b[0m plt\u001b[39m.\u001b[39mshow()\n",
      "\u001b[0;31mAttributeError\u001b[0m: 'Timedelta' object has no attribute 'to_ordinal'"
     ]
    }
   ],
   "source": [
    "years = [2018]\n",
    "years = range(2010, 2018 + 1)\n",
    "\n",
    "for year in years:\n",
    "    # read csv\n",
    "    df = pd.read_csv(f'../csv/cases/cases/small_cases_{year}.csv')\n",
    "\n",
    "    # keep only required columns\n",
    "    df = df[[\n",
    "        'year', 'state_code', 'dist_code', 'court_no', 'date_of_filing',\n",
    "        'date_of_decision'\n",
    "    ]]\n",
    "\n",
    "    df.dropna(inplace=True)\n",
    "\n",
    "    # merge\n",
    "    df = df.merge(courts, 'left',\n",
    "                  ['state_code', 'dist_code', 'court_no', 'year'])\n",
    "    df = df[['year', 'date_of_filing', 'date_of_decision', 'court_name']]\n",
    "\n",
    "    df['date_of_decision'] = pd.to_datetime(df['date_of_decision'],\n",
    "                                            errors='coerce')\n",
    "    df['date_of_filing'] = pd.to_datetime(df['date_of_filing'],\n",
    "                                          errors='coerce')\n",
    "\n",
    "    df['pendency'] = df['date_of_decision'].subtract(df['date_of_filing'])\n",
    "    # remove dates, only keep pendency\n",
    "    df = df[['year', 'court_name', 'pendency']]\n",
    "\n",
    "    # remove invalid pendencies caused by invalid dates\n",
    "    df = df[df['pendency'].dt.days > 0].sort_values(by='pendency',\n",
    "                                                    ascending=False)\n",
    "\n",
    "    # print(df.describe())\n",
    "\n",
    "    # plot\n",
    "    df['ordinal'] = [x.to_ordinal() for x in df['pendency']]\n",
    "    plot=df['ordinal'].plot.kde()\n",
    "    plt.show()\n"
   ]
  }
 ],
 "metadata": {
  "kernelspec": {
   "display_name": "Python 3",
   "language": "python",
   "name": "python3"
  },
  "language_info": {
   "codemirror_mode": {
    "name": "ipython",
    "version": 3
   },
   "file_extension": ".py",
   "mimetype": "text/x-python",
   "name": "python",
   "nbconvert_exporter": "python",
   "pygments_lexer": "ipython3",
   "version": "3.10.6"
  },
  "orig_nbformat": 4,
  "vscode": {
   "interpreter": {
    "hash": "916dbcbb3f70747c44a77c7bcd40155683ae19c65e1c03b4aa3499c5328201f1"
   }
  }
 },
 "nbformat": 4,
 "nbformat_minor": 2
}
